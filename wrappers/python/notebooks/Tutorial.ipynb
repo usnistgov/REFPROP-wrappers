{
 "cells": [
  {
   "cell_type": "markdown",
   "metadata": {},
   "source": [
    "# Python wrapper of REFPROP\n",
    "\n",
    "Tutorial written by Ian Bell, NIST, 2018.  Want to contribute to it, or think this tutorial is missing an important topic?  Please make a note at https://github.com/usnistgov/REFPROP-wrappers/issues/new\n",
    "\n",
    "## Help\n",
    "\n",
    "If you have any problems with this wrapper, please open an issue at github: https://github.com/usnistgov/REFPROP-wrappers/issues/new\n",
    "\n",
    "## Installation\n",
    "\n",
    "The Python wrapper of REFPROP can be installed with\n",
    "\n",
    "```\n",
    "pip install ctREFPROP\n",
    "```\n",
    "More installation instructions are available at [REFPROP-wrappers](https://github.com/usnistgov/REFPROP-wrappers/tree/master/wrappers/python)\n",
    "\n",
    "The wrapper is auto-generated to keep up-to-date with the FORTRAN code.  It is written in pure python with no dependencies aside from the standard library of Python\n",
    "\n",
    "## Setup\n",
    "\n",
    "*Windows normal users*: The Python wrapper of NIST REFPROP needs to be informed where its files are installed.  If you use the default installation location, and you have installed REFPROP with the MSI installer that you obtained from NIST, the ``RPPREFIX`` environment variable has been set, pointing to your installation, and you should not need to do anything with regards to setup.\n",
    "\n",
    "*Superusers*: If, on the other hand, you have used the [REFPROP-cmake](https://github.com/usnistgov/REFPROP-cmake) build system to build REFPROP yourself (the recommended build system for custom builds), you will need to copy the ``FLUIDS`` and ``MIXTURES`` directories to the appropriate folder in which your .DLL/.so/.dylib is located.  The ``SETPATHdll`` function (see example below) informs REFPROP where it should be able to find the files that it needs."
   ]
  },
  {
   "cell_type": "code",
   "execution_count": 1,
   "metadata": {},
   "outputs": [],
   "source": [
    "# This path is suitable for the developer's computer (the developer has multiple \n",
    "# copies of REFPROP installed on their computer), but the default configuration \n",
    "# with the REFPROP installer on windows should not require this step\n",
    "import os\n",
    "os.environ['RPPREFIX'] = r'/Users/ihb/REFPROP10sandbox'"
   ]
  },
  {
   "cell_type": "code",
   "execution_count": 2,
   "metadata": {},
   "outputs": [],
   "source": [
    "# Import the main class from the Python library\n",
    "from ctREFPROP.ctREFPROP import REFPROPFunctionLibrary\n",
    "\n",
    "# Imports from the standard library\n",
    "import glob\n",
    "\n",
    "# Imports from conda-installable packages\n",
    "import pandas\n",
    "\n",
    "# Import numpy\n",
    "import numpy as np\n",
    "\n",
    "# Import matplotlib for plotting\n",
    "import matplotlib.pyplot as plt"
   ]
  },
  {
   "cell_type": "markdown",
   "metadata": {},
   "source": [
    "## Use"
   ]
  },
  {
   "cell_type": "code",
   "execution_count": 3,
   "metadata": {},
   "outputs": [],
   "source": [
    "# Now we instantiate the library, and use the environment variable to\n",
    "# explicitly state which path we want to use. It was decided to make\n",
    "# the path handling explicit (though more verbose), because explicit \n",
    "# is almost always better than implicit\n",
    "RP = REFPROPFunctionLibrary(os.environ['RPPREFIX'])\n",
    "\n",
    "# Now we tell REFPROP what the root directory is that it should use.  This root directory should contain, at least:\n",
    "# A) REFPRP64.DLL (or REFPROP.dll for 32-bit windows, or librefprop.so or librefprop.dylib, for linux or OSX respectively)\n",
    "# B) FLUIDS folder (case sensitive)\n",
    "# C) MIXTURES folder (case sensitive)\n",
    "RP.SETPATHdll(os.environ['RPPREFIX'])\n",
    "\n",
    "# Get the unit system we want to use (we will revisit this GETENUM function later)\n",
    "MOLAR_BASE_SI = RP.GETENUMdll(0, \"MOLAR BASE SI\").iEnum"
   ]
  },
  {
   "cell_type": "code",
   "execution_count": 4,
   "metadata": {},
   "outputs": [
    {
     "data": {
      "text/plain": [
       "'10.0.1.20'"
      ]
     },
     "execution_count": 4,
     "metadata": {},
     "output_type": "execute_result"
    }
   ],
   "source": [
    "# The version of REFPROP (if this gives ***** with REFPROP 10.0.0, please see us to get a patch)\n",
    "RP.RPVersion()"
   ]
  },
  {
   "cell_type": "code",
   "execution_count": 5,
   "metadata": {},
   "outputs": [
    {
     "data": {
      "text/plain": [
       "373.1242958476859"
      ]
     },
     "execution_count": 5,
     "metadata": {},
     "output_type": "execute_result"
    }
   ],
   "source": [
    "# The classical first example, calculating the boiling temperature of water\n",
    "# at one atmosphere (101325 Pa) in K\n",
    "p_Pa = 101325\n",
    "Q = 0.0\n",
    "r = RP.REFPROPdll(\"Water\",\"PQ\",\"T\",MOLAR_BASE_SI,0,0,p_Pa,Q,[1.0])\n",
    "r.Output[0]"
   ]
  },
  {
   "cell_type": "code",
   "execution_count": 6,
   "metadata": {},
   "outputs": [
    {
     "data": {
      "text/plain": [
       "373.1242958476859"
      ]
     },
     "execution_count": 6,
     "metadata": {},
     "output_type": "execute_result"
    }
   ],
   "source": [
    "# You may also pass an absolute path to the .FLD file if you would like, which \n",
    "# supercedes the path specified to SETPATHdll\n",
    "p_Pa = 101325\n",
    "Q = 0.0\n",
    "FLDpath = os.path.join(os.environ['RPPREFIX'],\"FLUIDS\",\"WATER.FLD\")\n",
    "r = RP.REFPROPdll(FLDpath,\"PQ\",\"T\",MOLAR_BASE_SI,0,0,p_Pa,Q,[1.0])\n",
    "r.Output[0]"
   ]
  },
  {
   "cell_type": "code",
   "execution_count": 7,
   "metadata": {},
   "outputs": [
    {
     "data": {
      "text/plain": [
       "REFPROPdlloutput(z=array('d', [1.0, 0.0, 0.0, 0.0, 0.0, 0.0, 0.0, 0.0, 0.0, 0.0, 0.0, 0.0, 0.0, 0.0, 0.0, 0.0, 0.0, 0.0, 0.0, 0.0]), Output=array('d', [373.1242958476859, -9999990.0, -9999990.0, -9999990.0, -9999990.0, -9999990.0, -9999990.0, -9999990.0, -9999990.0, -9999990.0, -9999990.0, -9999990.0, -9999990.0, -9999990.0, -9999990.0, -9999990.0, -9999990.0, -9999990.0, -9999990.0, -9999990.0, -9999990.0, -9999990.0, -9999990.0, -9999990.0, -9999990.0, -9999990.0, -9999990.0, -9999990.0, -9999990.0, -9999990.0, -9999990.0, -9999990.0, -9999990.0, -9999990.0, -9999990.0, -9999990.0, -9999990.0, -9999990.0, -9999990.0, -9999990.0, -9999990.0, -9999990.0, -9999990.0, -9999990.0, -9999990.0, -9999990.0, -9999990.0, -9999990.0, -9999990.0, -9999990.0, -9999990.0, -9999990.0, -9999990.0, -9999990.0, -9999990.0, -9999990.0, -9999990.0, -9999990.0, -9999990.0, -9999990.0, -9999990.0, -9999990.0, -9999990.0, -9999990.0, -9999990.0, -9999990.0, -9999990.0, -9999990.0, -9999990.0, -9999990.0, -9999990.0, -9999990.0, -9999990.0, -9999990.0, -9999990.0, -9999990.0, -9999990.0, -9999990.0, -9999990.0, -9999990.0, -9999990.0, -9999990.0, -9999990.0, -9999990.0, -9999990.0, -9999990.0, -9999990.0, -9999990.0, -9999990.0, -9999990.0, -9999990.0, -9999990.0, -9999990.0, -9999990.0, -9999990.0, -9999990.0, -9999990.0, -9999990.0, -9999990.0, -9999990.0, -9999990.0, -9999990.0, -9999990.0, -9999990.0, -9999990.0, -9999990.0, -9999990.0, -9999990.0, -9999990.0, -9999990.0, -9999990.0, -9999990.0, -9999990.0, -9999990.0, -9999990.0, -9999990.0, -9999990.0, -9999990.0, -9999990.0, -9999990.0, -9999990.0, -9999990.0, -9999990.0, -9999990.0, -9999990.0, -9999990.0, -9999990.0, -9999990.0, -9999990.0, -9999990.0, -9999990.0, -9999990.0, -9999990.0, -9999990.0, -9999990.0, -9999990.0, -9999990.0, -9999990.0, -9999990.0, -9999990.0, -9999990.0, -9999990.0, -9999990.0, -9999990.0, -9999990.0, -9999990.0, -9999990.0, -9999990.0, -9999990.0, -9999990.0, -9999990.0, -9999990.0, -9999990.0, -9999990.0, -9999990.0, -9999990.0, -9999990.0, -9999990.0, -9999990.0, -9999990.0, -9999990.0, -9999990.0, -9999990.0, -9999990.0, -9999990.0, -9999990.0, -9999990.0, -9999990.0, -9999990.0, -9999990.0, -9999990.0, -9999990.0, -9999990.0, -9999990.0, -9999990.0, -9999990.0, -9999990.0, -9999990.0, -9999990.0, -9999990.0, -9999990.0, -9999990.0, -9999990.0, -9999990.0, -9999990.0, -9999990.0, -9999990.0, -9999990.0, -9999990.0, -9999990.0, -9999990.0, -9999990.0, -9999990.0, -9999990.0, -9999990.0, -9999990.0, -9999990.0, -9999990.0, -9999990.0, -9999990.0]), hUnits='K', iUCode=1, x=array('d', [1.0, 0.0, 0.0, 0.0, 0.0, 0.0, 0.0, 0.0, 0.0, 0.0, 0.0, 0.0, 0.0, 0.0, 0.0, 0.0, 0.0, 0.0, 0.0, 0.0]), y=array('d', [1.0, 0.0, 0.0, 0.0, 0.0, 0.0, 0.0, 0.0, 0.0, 0.0, 0.0, 0.0, 0.0, 0.0, 0.0, 0.0, 0.0, 0.0, 0.0, 0.0]), x3=array('d', [0.0, 0.0, 0.0, 0.0, 0.0, 0.0, 0.0, 0.0, 0.0, 0.0, 0.0, 0.0, 0.0, 0.0, 0.0, 0.0, 0.0, 0.0, 0.0, 0.0]), q=0.0, ierr=0, herr='')"
      ]
     },
     "execution_count": 7,
     "metadata": {},
     "output_type": "execute_result"
    }
   ],
   "source": [
    "# In each call to REFPROP, a named collections.namedtuple is returned, let's see what \n",
    "# we got from the last call\n",
    "r"
   ]
  },
  {
   "cell_type": "code",
   "execution_count": 8,
   "metadata": {},
   "outputs": [
    {
     "data": {
      "text/plain": [
       "0"
      ]
     },
     "execution_count": 8,
     "metadata": {},
     "output_type": "execute_result"
    }
   ],
   "source": [
    "# We can access fields by name\n",
    "r.ierr"
   ]
  },
  {
   "cell_type": "code",
   "execution_count": 9,
   "metadata": {},
   "outputs": [
    {
     "data": {
      "text/plain": [
       "('K', 'K')"
      ]
     },
     "execution_count": 9,
     "metadata": {},
     "output_type": "execute_result"
    }
   ],
   "source": [
    "# Or by value (here, the units string, accessed by index and by attribute)\n",
    "r[2], r.hUnits"
   ]
  },
  {
   "cell_type": "code",
   "execution_count": 10,
   "metadata": {},
   "outputs": [],
   "source": [
    "# You should always check the ierr code; ierr > 100 are fatal errors\n",
    "# See also http://refprop-docs.readthedocs.io/en/latest/DLL/high_level.html#f/_/ERRMSGdll\n",
    "assert r.ierr < 100"
   ]
  },
  {
   "cell_type": "markdown",
   "metadata": {},
   "source": [
    "## Unit sytems\n",
    "\n",
    "REFPROP supports a variety of unit systems (see [the docs](http://refprop-docs.readthedocs.io/en/latest/DLL/high_level.html#f/_/REFPROPdll)).  Though your calculations should only ever be done in SI-derived units (and preferably in base SI units (Pa, J, kg, mol)), you can also use other unit systems in REFPROP.  See the docs for more information on the use of IP units.  You can retrieve the enumerated values for the unit system (used in the ``REFPROPdll`` function, and in other functions in the high-level API) from the ``GETENUMdll`` function.  All the examples here use \n",
    "the molar base SI unit system.\n",
    "\n",
    "You may also access the standard unit systems by attribute: ``RE.MOLAR_BASE_SI`` for instance"
   ]
  },
  {
   "cell_type": "code",
   "execution_count": 11,
   "metadata": {},
   "outputs": [
    {
     "name": "stdout",
     "output_type": "stream",
     "text": [
      "0\n",
      "2\n",
      "20\n",
      "And by attribute:\n",
      "0\n",
      "20\n"
     ]
    }
   ],
   "source": [
    "for unit_string in 'DEFAULT','SI','MOLAR BASE SI':\n",
    "    print(RP.GETENUMdll(0, unit_string).iEnum)\n",
    "\n",
    "print('And by attribute:')\n",
    "print(RP.DEFAULT)\n",
    "print(RP.MOLAR_BASE_SI)"
   ]
  },
  {
   "cell_type": "markdown",
   "metadata": {},
   "source": [
    "## Inputs/Outputs"
   ]
  },
  {
   "cell_type": "code",
   "execution_count": 12,
   "metadata": {},
   "outputs": [
    {
     "data": {
      "text/plain": [
       "array('d', [16917.92718519239, 88.67074989699651, -4990.501996584616, 8.314471, 0.102032, 741.969431080969])"
      ]
     },
     "execution_count": 12,
     "metadata": {},
     "output_type": "execute_result"
    }
   ],
   "source": [
    "# You can get multiple outputs from the REFPROP function, for instance here we get \n",
    "# the molar enthalpy, molar entropy, molar Gibbs energy, the gas constant, the \n",
    "# molar mass, and the speed of sound\n",
    "# \n",
    "# Additional properties are listed in the documentation\n",
    "#\n",
    "# N.B. The enthalpy, entropy, and Gibbs energies obtained are a function of the reference \n",
    "# state selected\n",
    "RP.REFPROPdll(\"R134A\",\"PQ\",\"H;S;G;R;M;W\",MOLAR_BASE_SI,0,0,101325,0,[1.0]+[0.0]*19).Output[0:6]"
   ]
  },
  {
   "cell_type": "markdown",
   "metadata": {},
   "source": [
    "## Retrieving Fluid Information"
   ]
  },
  {
   "cell_type": "code",
   "execution_count": 13,
   "metadata": {},
   "outputs": [
    {
     "name": "stdout",
     "output_type": "stream",
     "text": [
      "Numerical outputs, stored in Output\n",
      "-----------------------------------\n",
      "TC [K]: 369.89 \n",
      "PC [MPa]: 4.2512 \n",
      "DC [mol/dm^3]: 5.0 \n",
      "TTRP [K]: 85.525 \n",
      "PTRP [MPa]: 1.72e-10 \n",
      "MM [g/mol]: 44.09562 \n",
      "ACF [-]: 0.1521 \n",
      "DIPOLE [debye]: 0.084 \n",
      "TNBP [K]: 231.036 \n",
      "REOS [(J/mol)/K]: 8.314472 \n",
      "ODP [-]: -1.0 \n",
      "GWP [-]: 3.3 \n",
      "TMIN [K]: 85.525 \n",
      "TMAX [K]: 650.0 \n",
      "PMAX [MPa]: 1000.0 \n",
      "HEATCOMB [J/mol]: 2219170.0 \n",
      "HFRM [J/mol]: -104683.0 \n",
      "\n",
      "String Outputs, stored in hUnits\n",
      "--------------------------------\n",
      "ALTID: Not available\n",
      "CAS#: 74-98-6\n",
      "CHEMFORM: C3H8\n",
      "FULLCHEMFORM: CH3CH2CH3\n",
      "SYNONYM: R-290\n",
      "FAMILY: n-alkane\n",
      "HASH: 70c6aac0\n",
      "INCHI: 1S/C3H8/c1-3-2/h3H2,1-2H3\n",
      "INCHIKEY: ATUOYWHBWRKTHZ-UHFFFAOYSA-N\n",
      "LONGNAME: Propane\n",
      "SAFETY: A3\n",
      "NAME: Propane\n",
      "UNNUMBER: 1075, 1978\n",
      "DOI_EOS(1): 10.1021/je900217v\n",
      "WEB_EOS(1): \n",
      "REFSTATE: IIR\n",
      "FLDNAME: Propane.FLD\n",
      "FDIR(1): /Users/ihb/REFPROP10sandbox/fluids/Propane.FLD\n"
     ]
    }
   ],
   "source": [
    "z = [1.0] + [0.0]*19\n",
    "MOLAR_SI = RP.GETENUMdll(0,\"MOLAR SI\").iEnum\n",
    "\n",
    "# Print out a range of properties for a well-known fluid\n",
    "f = 'Propane'\n",
    "print('Numerical outputs, stored in Output')\n",
    "print('-----------------------------------')\n",
    "for k in [\"TC\",\"PC\",\"DC\",\"TTRP\",\"PTRP\",\"MM\",\"ACF\",\n",
    "          \"DIPOLE\",\"TNBP\",\"REOS\",\"ODP\",\"GWP\",\"TMIN\",\n",
    "          \"TMAX\",\"PMAX\",\"HEATCOMB\",\"HFRM\"]:\n",
    "    r = RP.REFPROPdll(f,\"\",k,MOLAR_SI,0,0,0,0,z)\n",
    "    print(k + ' [' + r.hUnits+']:', r.Output[0], r.herr)\n",
    "\n",
    "print('\\nString Outputs, stored in hUnits')\n",
    "print('--------------------------------')\n",
    "for k in [\"ALTID\",\"CAS#\",\"CHEMFORM\",\"FULLCHEMFORM\",\"SYNONYM\",\n",
    "          \"FAMILY\",\"HASH\",\"INCHI\",\"INCHIKEY\",\"LONGNAME\",\n",
    "          \"SAFETY\",\"NAME\",\"UNNUMBER\",\"DOI_EOS(1)\" ,\n",
    "          \"WEB_EOS(1)\",\"REFSTATE\",\"FLDNAME\",\"FDIR(1)\"]:\n",
    "    r = RP.REFPROPdll(f,\"\",k,MOLAR_SI,0,0,0,0,z)\n",
    "    print(k + ':', r.hUnits)"
   ]
  },
  {
   "cell_type": "code",
   "execution_count": 14,
   "metadata": {},
   "outputs": [
    {
     "data": {
      "text/html": [
       "<div>\n",
       "<style scoped>\n",
       "    .dataframe tbody tr th:only-of-type {\n",
       "        vertical-align: middle;\n",
       "    }\n",
       "\n",
       "    .dataframe tbody tr th {\n",
       "        vertical-align: top;\n",
       "    }\n",
       "\n",
       "    .dataframe thead th {\n",
       "        text-align: right;\n",
       "    }\n",
       "</style>\n",
       "<table border=\"1\" class=\"dataframe\">\n",
       "  <thead>\n",
       "    <tr style=\"text-align: right;\">\n",
       "      <th></th>\n",
       "      <th>NAME</th>\n",
       "      <th>TC [K]</th>\n",
       "      <th>PC [MPa]</th>\n",
       "      <th>DC [mol/dm^3]</th>\n",
       "      <th>INCHIKEY</th>\n",
       "      <th>HASH</th>\n",
       "    </tr>\n",
       "  </thead>\n",
       "  <tbody>\n",
       "    <tr>\n",
       "      <th>111</th>\n",
       "      <td>NEON</td>\n",
       "      <td>44.4000</td>\n",
       "      <td>2.66163</td>\n",
       "      <td>24.100000</td>\n",
       "      <td>GKAOGPIIYCISHV-UHFFFAOYSA-N</td>\n",
       "      <td>b912fce0</td>\n",
       "    </tr>\n",
       "    <tr>\n",
       "      <th>152</th>\n",
       "      <td>WATER</td>\n",
       "      <td>647.0960</td>\n",
       "      <td>22.06400</td>\n",
       "      <td>17.873728</td>\n",
       "      <td>XLYOFNOQVPJJNP-UHFFFAOYSA-N</td>\n",
       "      <td>b43a7600</td>\n",
       "    </tr>\n",
       "    <tr>\n",
       "      <th>125</th>\n",
       "      <td>D2O</td>\n",
       "      <td>643.8470</td>\n",
       "      <td>21.66180</td>\n",
       "      <td>17.775550</td>\n",
       "      <td>XLYOFNOQVPJJNP-ZSJDYOACSA-N</td>\n",
       "      <td>3e131610</td>\n",
       "    </tr>\n",
       "    <tr>\n",
       "      <th>96</th>\n",
       "      <td>HELIUM</td>\n",
       "      <td>5.1953</td>\n",
       "      <td>0.22832</td>\n",
       "      <td>17.383700</td>\n",
       "      <td>SWQJXJOGLNCZEY-UHFFFAOYSA-N</td>\n",
       "      <td>3b8eed30</td>\n",
       "    </tr>\n",
       "    <tr>\n",
       "      <th>140</th>\n",
       "      <td>D2</td>\n",
       "      <td>38.3400</td>\n",
       "      <td>1.67960</td>\n",
       "      <td>17.230000</td>\n",
       "      <td>UFHFLCQGNIYNRP-VVKOMZTBSA-N</td>\n",
       "      <td>639b18a0</td>\n",
       "    </tr>\n",
       "  </tbody>\n",
       "</table>\n",
       "</div>"
      ],
      "text/plain": [
       "       NAME    TC [K]  PC [MPa]  DC [mol/dm^3]                     INCHIKEY  \\\n",
       "111    NEON   44.4000   2.66163      24.100000  GKAOGPIIYCISHV-UHFFFAOYSA-N   \n",
       "152   WATER  647.0960  22.06400      17.873728  XLYOFNOQVPJJNP-UHFFFAOYSA-N   \n",
       "125     D2O  643.8470  21.66180      17.775550  XLYOFNOQVPJJNP-ZSJDYOACSA-N   \n",
       "96   HELIUM    5.1953   0.22832      17.383700  SWQJXJOGLNCZEY-UHFFFAOYSA-N   \n",
       "140      D2   38.3400   1.67960      17.230000  UFHFLCQGNIYNRP-VVKOMZTBSA-N   \n",
       "\n",
       "         HASH  \n",
       "111  b912fce0  \n",
       "152  b43a7600  \n",
       "125  3e131610  \n",
       "96   3b8eed30  \n",
       "140  639b18a0  "
      ]
     },
     "execution_count": 14,
     "metadata": {},
     "output_type": "execute_result"
    }
   ],
   "source": [
    "# A slightly more involved example of obtaining information\n",
    "# on the fluids in REFPROP, and storing it in a pandas \n",
    "# DataFrame for further sorting, grouping, etc.\n",
    "\n",
    "# The search pattern for finding pure fluid files\n",
    "FLUIDSglob = os.path.join(os.environ['RPPREFIX'],\n",
    "                          'FLUIDS','*.FLD')\n",
    "data = []\n",
    "# Loop over the fluid files found\n",
    "for fname in glob.glob(FLUIDSglob):\n",
    "    # The fluid name is obtained as the string\n",
    "    # to the right of the last path delimiter\n",
    "    # and before the period.\n",
    "    fld = os.path.split(fname)[1].split('.')[0]\n",
    "    \n",
    "    # Make a dictionary to collect information about\n",
    "    # the fluid\n",
    "    info = {'NAME':fld}\n",
    "    # Numerical values w/ units\n",
    "    for k in ['TC', 'PC', 'DC']:\n",
    "        r = RP.REFPROPdll(fld,\" \",k,MOLAR_SI,0,0,0,0,z)\n",
    "        heading = k + ' [' + r.hUnits + ']'\n",
    "        info[heading] = r.Output[0]\n",
    "        \n",
    "    # String things\n",
    "    for k in ['INCHIKEY','HASH']:\n",
    "        r = RP.REFPROPdll(fld,\" \",k,MOLAR_SI,0,0,0,0,z)\n",
    "        info[k] = r.hUnits\n",
    "        \n",
    "    # Store the dictionary in the list\n",
    "    data.append(info)\n",
    "\n",
    "# The complete DataFrame for all fluids; flatten the \n",
    "# list of dictionaries into a DataFrame\n",
    "df = pandas.DataFrame(data)\n",
    "\n",
    "# Print the first lines of the DataFrame as sorted by\n",
    "# critical density in decreasing order\n",
    "df.sort_values(by='DC [mol/dm^3]',ascending=False).head(5)"
   ]
  },
  {
   "cell_type": "markdown",
   "metadata": {},
   "source": [
    "## Flash Calculations\n",
    "\n",
    "One of the primary uses of REFPROP is to be able to calculate properties as a function of state variables other than temperature and density (the natural variables of the equation of state).  Therefore you need to be able to input other properties, and obtain the temperature and density, from which you can obtain all other thermodynamic properties explicitly.  \n",
    "\n",
    "The following thermodynamic variables are allowed as inputs for the thermodynamic state: ``T``,``P``,``D``,``H``,``S``,``E``.  Two of them are required to fix the state.  In this example we calculate the density and vapor quality (on a molar basis) for the mixture of decane + nitrogen."
   ]
  },
  {
   "cell_type": "code",
   "execution_count": 15,
   "metadata": {},
   "outputs": [
    {
     "data": {
      "text/plain": [
       "(0.06773746132194722, 0.600664817769304)"
      ]
     },
     "execution_count": 15,
     "metadata": {},
     "output_type": "execute_result"
    }
   ],
   "source": [
    "units = RP.GETENUMdll(0,'DEFAULT').iEnum\n",
    "o = RP.REFPROPdll(\"Decane * Nitrogen\",\"TP\",\"D;Qmole\",units,0,0,298,101.325,[0.4, 0.6])\n",
    "assert(o.ierr == 0)\n",
    "D_molL, Qmole = o.Output[0:2]\n",
    "D_molL, Qmole"
   ]
  },
  {
   "cell_type": "markdown",
   "metadata": {},
   "source": [
    "## Phase Boundary for Mixtures"
   ]
  },
  {
   "cell_type": "markdown",
   "metadata": {},
   "source": [
    "Now let's do something fun (and instructive) --  plot the isopleth (line of constant composition of the phase envelope) for this composition and show where our STP (standard temperature and pressure) state point is."
   ]
  },
  {
   "cell_type": "code",
   "execution_count": 16,
   "metadata": {},
   "outputs": [
    {
     "data": {
      "image/png": "[encoded data removed]",
      "text/plain": [
       "<Figure size 640x480 with 1 Axes>"
      ]
     },
     "metadata": {},
     "output_type": "display_data"
    }
   ],
   "source": [
    "# Obtain the isopleth data\n",
    "# ---\n",
    "# Set up the fluids we want\n",
    "RP.SETFLUIDSdll('Decane * Nitrogen')\n",
    "# Construct the saturation spline\n",
    "RP.SATSPLNdll([0.4,0.6])\n",
    "# Now we programatically extract the nodes of the isopleth...\n",
    "Nnodes = RP.REFPROPdll(\"\",\"SPLINENODES\",\"\",0,0,0,0,0,[0.4,0.6]).iUCode\n",
    "data = []\n",
    "for i in range(1,Nnodes+1):\n",
    "    rho_vap,T,p,rho_eq,z0,z1 = RP.REFPROPdll(\"\",\"SPLINENODES\",\"\",0,0,i,0,0,[0.4,0.6]).Output[0:6]\n",
    "    data.append(dict(rho_vap = rho_vap,T=T,p=p,z0=z0,z1=z1))\n",
    "# Convert the data points into a pandas DataFrame\n",
    "df = pandas.DataFrame(data)\n",
    "# And plot them...\n",
    "plt.plot(df['T'],df.p,'o-')\n",
    "\n",
    "# Plot the specified state point at STP\n",
    "plt.plot(298, 101.325,'o-',ms=8)\n",
    "\n",
    "plt.yscale('log')\n",
    "plt.xlabel('T [K]')\n",
    "plt.ylabel('p [kPa]')\n",
    "plt.show()"
   ]
  },
  {
   "cell_type": "markdown",
   "metadata": {},
   "source": [
    "And now let's reproduce the same output with the legacy ``SPLNVALdll`` function.  Docs:\n",
    "```\n",
    "subroutine SPLNVAL (isp,iderv,a,f,ierr,herr)\n",
    "c\n",
    "c  calculates the function value of a spline\n",
    "c\n",
    "c  inputs:\n",
    "c      isp--indicator for which spline to use (1-nc: composition,\n",
    "c           nc+1: temperature, nc+2: pressure, nc+3: density,\n",
    "c           nc+4: enthalpy, nc+5: entropy)\n",
    "c    iderv--values of -1 and -2 return lower and upper root values,\n",
    "c           value of 0 returns spline function, value of 1 returns\n",
    "c           derivative of spline function with respect to density\n",
    "c        a--root value\n",
    "c  outputs:\n",
    "c        f--value of spline function at input root\n",
    "c     ierr--error flag:   0 = successful\n",
    "c     herr--error string (character*255)\n",
    "``` "
   ]
  },
  {
   "cell_type": "code",
   "execution_count": 17,
   "metadata": {},
   "outputs": [
    {
     "data": {
      "image/png": "[encoded data removed]",
      "text/plain": [
       "<Figure size 640x480 with 1 Axes>"
      ]
     },
     "metadata": {},
     "output_type": "display_data"
    }
   ],
   "source": [
    "# Reset...\n",
    "RP.SETFLUIDSdll('ARGON')\n",
    "# Set up the fluids we want\n",
    "RP.SETFLUIDSdll('Decane*Nitrogen')\n",
    "# Construct the saturation spline\n",
    "RP.SATSPLNdll([0.4,0.6])\n",
    "\n",
    "# Now we programatically extract smoothed values\n",
    "nc = 2 # two components\n",
    "\n",
    "# These limits are the densities of the \"vapor\" phase\n",
    "rhomolarmin = RP.SPLNVALdll(nc+1, -1, 0).f\n",
    "rhomolarmax = RP.SPLNVALdll(nc+1, -2, 0).f\n",
    "\n",
    "Nnodes = RP.REFPROPdll(\"\",\"SPLINENODES\",\"\",0,0,0,0,0,[0.4,0.6]).iUCode\n",
    "iT = nc+1\n",
    "iP = nc+2\n",
    "iD = nc+3\n",
    "iH = nc+4\n",
    "iS = nc+5\n",
    "\n",
    "data = []\n",
    "for rho in np.geomspace(rhomolarmin, rhomolarmax, 10000):\n",
    "    # rho_eq is the density of the \"other\" phase\n",
    "    T,p,rho_eq,h,s = [RP.SPLNVALdll(k, 0, rho).f for k in [iT, iP, iD, iH, iS]]\n",
    "    data.append(dict(rho_vap=rho_eq, T=T, p=p))\n",
    "    \n",
    "# Convert the data points into a pandas DataFrame\n",
    "df = pandas.DataFrame(data)\n",
    "# And plot them...\n",
    "plt.plot(df['T'],df.p,'-')\n",
    "\n",
    "# Plot the specified state point at STP\n",
    "plt.plot(298, 101.325,'o-',ms=8)\n",
    "\n",
    "plt.yscale('log')\n",
    "plt.xlabel('T [K]')\n",
    "plt.ylabel('p [kPa]')\n",
    "plt.show()"
   ]
  },
  {
   "cell_type": "markdown",
   "metadata": {},
   "source": [
    "This is a non-Type I mixture, therefore the \"bubble\" side of the phase enevelope continues up to high pressures.  This is common behavior for mixtures formed of asymmetric components."
   ]
  },
  {
   "cell_type": "markdown",
   "metadata": {},
   "source": [
    "## Natural gas mixture\n",
    "\n",
    "Here is an example for a natural gas mixture. First we build the isopleth of the phase envelope (commonly called just the \"phase envelope\") and then do some flash calculations using one of three models:\n",
    "\n",
    "* default models in REFPROP\n",
    "* GERG-2008\n",
    "* AGA8 Detail model\n",
    "\n",
    "You'll note that even with the saturation splines enabled there are still some failures with GERG-2008 and AGA8. Iterative flash calculations are difficult, and "
   ]
  },
  {
   "cell_type": "code",
   "execution_count": 18,
   "metadata": {},
   "outputs": [
    {
     "name": "stdout",
     "output_type": "stream",
     "text": [
      "FLAGSdlloutput(kFlag=0, ierr=0, herr='')\n",
      "0\n",
      "SATSPLNdlloutput(ierr=0, herr='Message:  Splines set up with a total of 276 data points.')\n",
      "Some values @ 400 K, 4 MPa are:\n",
      "D 1236.9037797483293 mol/m^3\n",
      "M 0.019413110662580002 kg/mol\n",
      "H 19243.503256929143 J/mol\n",
      "CP 47.795317197010384 (J/mol)/K\n",
      "CV 37.4179824769373 (J/mol)/K\n",
      "JT 2.4886767462830303e-06 K/Pa\n",
      "W 455.5821169743685 m/s\n",
      "VIS 1.4631515702592718e-05 Pa-s\n",
      "TCX 0.0483076321604701 W/(m-K)\n",
      "FLAGSdlloutput(kFlag=0, ierr=0, herr='')\n",
      "FLAGSdlloutput(kFlag=1, ierr=0, herr='')\n",
      "0\n",
      "SATSPLNdlloutput(ierr=0, herr='Message:  Splines set up with a total of 273 data points.')\n",
      "FLAGSdlloutput(kFlag=-1, ierr=0, herr='')\n",
      "0\n",
      "FLAGSdlloutput(kFlag=1, ierr=0, herr='')\n",
      "SATSPLNdlloutput(ierr=0, herr='')\n",
      "[ALLPROPS error 2] One or more inputs are out of range; Density above upper limit: D = 16.5820 mol/L, Dmax = 15.5702 mol/L.\n",
      "[ALLPROPS error 2] One or more inputs are out of range; Density above upper limit: D = 16.5820 mol/L, Dmax = 13.8061 mol/L.\n",
      "[ALLPROPS error 2] One or more inputs are out of range; Density above upper limit: D = 17.5463 mol/L, Dmax = 12.7163 mol/L.\n",
      "[ALLPROPS error 2] One or more inputs are out of range; Density above upper limit: D = 16.3401 mol/L, Dmax = 11.9042 mol/L.\n",
      "[ALLPROPS error 2] One or more inputs are out of range; Density above upper limit: D = 15.2860 mol/L, Dmax = 10.5099 mol/L.\n",
      "[ALLPROPS error 2] One or more inputs are out of range; Density above upper limit: D = 14.2949 mol/L, Dmax = 9.74661 mol/L.\n",
      "[ALLPROPS error 2] One or more inputs are out of range; Density above upper limit: D = 13.3818 mol/L, Dmax = 9.04134 mol/L.\n",
      "[ALLPROPS error 2] One or more inputs are out of range; Density above upper limit: D = 12.4982 mol/L, Dmax = 8.37940 mol/L.\n",
      "[ALLPROPS error 2] One or more inputs are out of range; Density above upper limit: D = 17.5047 mol/L, Dmax = 15.5389 mol/L.\n",
      "[ALLPROPS error 2] One or more inputs are out of range; Density above upper limit: D = 16.7086 mol/L, Dmax = 12.9655 mol/L.\n",
      "[ALLPROPS error 2] One or more inputs are out of range; Density above upper limit: D = 15.7133 mol/L, Dmax = 12.3719 mol/L.\n",
      "[ALLPROPS error 2] One or more inputs are out of range; Density above upper limit: D = 14.6899 mol/L, Dmax = 10.7486 mol/L.\n",
      "[ALLPROPS error 2] One or more inputs are out of range; Density above upper limit: D = 13.7871 mol/L, Dmax = 10.0455 mol/L.\n",
      "[ALLPROPS error 2] One or more inputs are out of range; Density above upper limit: D = 12.9255 mol/L, Dmax = 9.17489 mol/L.\n",
      "[ALLPROPS error 2] One or more inputs are out of range; Density above upper limit: D = 18.4406 mol/L, Dmax = 15.7925 mol/L.\n",
      "[ALLPROPS error 2] One or more inputs are out of range; Density above upper limit: D = 16.3459 mol/L, Dmax = 14.7406 mol/L.\n",
      "[ALLPROPS error 2] One or more inputs are out of range; Density above upper limit: D = 14.9443 mol/L, Dmax = 12.2726 mol/L.\n",
      "[ALLPROPS error 2] One or more inputs are out of range; Density above upper limit: D = 14.1259 mol/L, Dmax = 11.5617 mol/L.\n",
      "[ALLPROPS error 2] One or more inputs are out of range; Density above upper limit: D = 13.1818 mol/L, Dmax = 10.0547 mol/L.\n",
      "[ALLPROPS error 2] One or more inputs are out of range; Density above upper limit: D = 10.4749 mol/L, Dmax = 10.4672 mol/L.\n",
      "FLAGSdlloutput(kFlag=0, ierr=0, herr='')\n",
      "FLAGSdlloutput(kFlag=0, ierr=0, herr='')\n"
     ]
    },
    {
     "data": {
      "image/png": "[encoded data removed]",
      "text/plain": [
       "<Figure size 640x480 with 1 Axes>"
      ]
     },
     "metadata": {},
     "output_type": "display_data"
    },
    {
     "data": {
      "image/png": "[encoded data removed]",
      "text/plain": [
       "<Figure size 640x480 with 1 Axes>"
      ]
     },
     "metadata": {},
     "output_type": "display_data"
    },
    {
     "data": {
      "image/png": "[encoded data removed]",
      "text/plain": [
       "<Figure size 640x480 with 1 Axes>"
      ]
     },
     "metadata": {},
     "output_type": "display_data"
    }
   ],
   "source": [
    "names = [\"Nitrogen\",\"Carbon dioxide\",\"Methane\",\"Ethane\",\"Propane\",\"Isobutane\",\"Butane\",\"Isopentane\",\"Pentane\",\"Hexane\",\"Heptane\",\"Octane\",\"Nonane\",\"Decane\"]\n",
    "molefracs = [0.012084,0.023398,0.85384,0.087084,0.0060235,0.00063494,0.0029093,0.0029643,0.0034653,0.002964,0.0022433,0.00087887,0.00019536,0.0013156]\n",
    "\n",
    "# Force the HMX.BNC to be re-read every time, allowing the models to be changed\n",
    "RP.FLAGSdll('HMX', 1)\n",
    "\n",
    "for model in ['default', 'GERG2008', 'AGA8']:\n",
    "\n",
    "    # The GERG-2008 flag is set BEFORE calling SETUP\n",
    "    print(RP.FLAGSdll('GERG', 0))\n",
    "    if model == 'GERG2008':\n",
    "        print(RP.FLAGSdll('GERG', 1))\n",
    "\n",
    "    print(RP.SETFLUIDSdll('*'.join(names)))\n",
    "\n",
    "    # The AGA8 flag is set after setting the fluids\n",
    "    if model == 'AGA8':\n",
    "        print(RP.FLAGSdll('AGA8', 1))\n",
    "        \n",
    "    # Construct the saturation spline\n",
    "    print(RP.SATSPLNdll(molefracs))\n",
    "    \n",
    "    # Now we programatically extract smoothed values\n",
    "    nc = len(names) \n",
    "    # These limits are the densities of the \"vapor\" phase\n",
    "    rhomolarmin = RP.SPLNVALdll(nc+1, -1, 0).f\n",
    "    rhomolarmax = RP.SPLNVALdll(nc+1, -2, 0).f\n",
    "    \n",
    "    Nnodes = RP.REFPROPdll(\"\",\"SPLINENODES\",\"\",0,0,0,0,0,[0.4,0.6]).iUCode\n",
    "    iT = nc+1; iP = nc+2; iD = nc+3; iH = nc+4; iS = nc+5\n",
    "    \n",
    "    data = []\n",
    "    for rho in np.geomspace(rhomolarmin, rhomolarmax, 10000):\n",
    "        # rho_eq is the density of the \"other\" phase\n",
    "        T,p,rho_eq,h,s = [RP.SPLNVALdll(k, 0, rho).f for k in [iT, iP, iD, iH, iS]]\n",
    "        data.append(dict(rho_vap=rho_eq, T=T, p=p))\n",
    "        \n",
    "    # Convert the data points into a pandas DataFrame\n",
    "    df = pandas.DataFrame(data)\n",
    "    plt.figure()\n",
    "    # And plot them...\n",
    "    plt.plot(df['T'],df.p,'-')\n",
    "    \n",
    "    plt.yscale('log')\n",
    "    plt.xlabel('T [K]')\n",
    "    plt.ylabel('p [kPa]')\n",
    "    plt.ylim(1e3,5e4)\n",
    "    plt.title(model)\n",
    "    \n",
    "    for p_Pa in np.linspace(5e6, 12e6, 6):\n",
    "        for T_K in np.linspace(250, 400, 14):\n",
    "            r = RP.REFPROPdll('','PT','D',RP.MOLAR_BASE_SI, 0,0,p_Pa, T_K, molefracs)\n",
    "            if r.ierr == 0:\n",
    "                plt.plot(T_K, p_Pa/1e3, 'ko')\n",
    "            else:\n",
    "                plt.plot(T_K, p_Pa/1e3, 'rx')\n",
    "                print(r.herr)\n",
    "\n",
    "    if model == 'AGA8':\n",
    "        print(RP.FLAGSdll('AGA8', 0))\n",
    "\n",
    "    # And print out the density, molecular weight, enthalpy, Cp, Cv, JT Coefficient, Speed of sound, viscosity, thermal conductivity\n",
    "    if model == 'default':\n",
    "        print('Some values @ 400 K, 4 MPa are:')\n",
    "        properties = ['D','M','H','CP','CV','JT','W','VIS','TCX']\n",
    "        for prop in properties:\n",
    "            r = RP.REFPROPdll('','PT',prop,RP.MOLAR_BASE_SI, 0,0,4e6, 400, molefracs)\n",
    "            print(prop, r.Output[0], r.hUnits)\n",
    "        \n",
    "print(RP.FLAGSdll('HMX', 1))"
   ]
  },
  {
   "cell_type": "markdown",
   "metadata": {},
   "source": [
    "## Speed!"
   ]
  },
  {
   "cell_type": "code",
   "execution_count": 19,
   "metadata": {},
   "outputs": [],
   "source": [
    "# Set up REFPROP with Water as the fluid\n",
    "RP.SETFLUIDSdll(\"Water\");"
   ]
  },
  {
   "cell_type": "code",
   "execution_count": 20,
   "metadata": {},
   "outputs": [
    {
     "name": "stdout",
     "output_type": "stream",
     "text": [
      "38.6 μs ± 4.04 μs per loop (mean ± std. dev. of 7 runs, 10,000 loops each)\n"
     ]
    }
   ],
   "source": [
    "# The convenient REFPROP function introduces a significant amount of overhead\n",
    "%timeit RP.REFPROPdll(\"\",\"PQ\",\"T\",RP.MOLAR_BASE_SI,0,0,1e5,0,[1.0])"
   ]
  },
  {
   "cell_type": "code",
   "execution_count": 21,
   "metadata": {},
   "outputs": [
    {
     "name": "stdout",
     "output_type": "stream",
     "text": [
      "5.04 μs ± 35.1 ns per loop (mean ± std. dev. of 7 runs, 100,000 loops each)\n"
     ]
    }
   ],
   "source": [
    "# This is much faster because the overhead of the REFPROPdll function is avoided\n",
    "%timeit RP.ABFLSHdll('PQ', 101.325, 0, [1.0], 0)"
   ]
  },
  {
   "cell_type": "code",
   "execution_count": 22,
   "metadata": {},
   "outputs": [
    {
     "name": "stdout",
     "output_type": "stream",
     "text": [
      "4.18 μs ± 10.8 ns per loop (mean ± std. dev. of 7 runs, 100,000 loops each)\n"
     ]
    }
   ],
   "source": [
    "# A bit faster still, but see the approach below for ALLPROPS0; much of this is calling overhead\n",
    "%timeit RP.PQFLSHdll(101.325, 0, [1.0], 1)"
   ]
  },
  {
   "cell_type": "code",
   "execution_count": 23,
   "metadata": {},
   "outputs": [
    {
     "name": "stdout",
     "output_type": "stream",
     "text": [
      "2.83 μs ± 23.2 ns per loop (mean ± std. dev. of 7 runs, 100,000 loops each)\n"
     ]
    }
   ],
   "source": [
    "# To get even faster, use the even-lower-level functions\n",
    "z = [1.0]\n",
    "D = 5000; T = 400\n",
    "iP = RP.GETENUMdll(1, 'P').iEnum\n",
    "RP.SETFLUIDSdll('PROPANE')\n",
    "%timeit RP.ALLPROPS0dll(1, [iP], 0, T, D, z)"
   ]
  },
  {
   "cell_type": "markdown",
   "metadata": {},
   "source": [
    "Not bad, but to really push the performance, copy out the necessary code from the ctREFPROP wrapper for the function of interest and implement it yourself to avoid copies and allocation on each call to the interface. Or come up with a smart way of managing the buffers yourself. It can be worth it!"
   ]
  },
  {
   "cell_type": "code",
   "execution_count": 24,
   "metadata": {},
   "outputs": [
    {
     "name": "stdout",
     "output_type": "stream",
     "text": [
      "683 ns ± 18 ns per loop (mean ± std. dev. of 7 runs, 1,000,000 loops each)\n"
     ]
    }
   ],
   "source": [
    "# Warning: advanced use only! Be careful!\n",
    "import ctypes\n",
    "iOut = [iP]\n",
    "z = [1.0]\n",
    "iFlag = 0\n",
    "\n",
    "# This allocation now happens one time\n",
    "iIn = ctypes.c_int(1)\n",
    "iOut = (len(iOut)*ctypes.c_int)(*iOut)\n",
    "iFlag = ctypes.c_int(iFlag)\n",
    "cT = ctypes.c_double(T)\n",
    "cD = ctypes.c_double(D)\n",
    "z = (len(z)*ctypes.c_double)(*z)\n",
    "Output = (200*ctypes.c_double)()\n",
    "ierr = ctypes.c_int()\n",
    "herr = ctypes.create_string_buffer(255)\n",
    "\n",
    "if RP._ALLPROPS0dll is None: raise ValueError(\"The function ALLPROPS0dll could not be loaded from the shared library.\") \n",
    "    \n",
    "%timeit RP._ALLPROPS0dll(ctypes.byref(iIn),iOut,ctypes.byref(iFlag),ctypes.byref(cT),ctypes.byref(cD),z,Output,ctypes.byref(ierr),herr,255)"
   ]
  },
  {
   "cell_type": "markdown",
   "metadata": {},
   "source": [
    "Whoah, speed racer 🏎️🏎️ !!"
   ]
  },
  {
   "cell_type": "markdown",
   "metadata": {},
   "source": [
    "## Reference States"
   ]
  },
  {
   "cell_type": "code",
   "execution_count": 25,
   "metadata": {},
   "outputs": [
    {
     "name": "stdout",
     "output_type": "stream",
     "text": [
      "array('d', [199999.55654680828, 999.9992602411847]) :::::: (should be 200000, 1000)\n",
      "array('d', [-1.4505544242817523e-11, 0.0]) :::::: (should be ~0, ~0)\n",
      "array('d', [199999.55654680828, 999.9992602411847]) :::::: (should be 200000, 1000)\n"
     ]
    }
   ],
   "source": [
    "MASS_BASE_SI = RP.GETENUMdll(0, \"MASS BASE SI\").iEnum\n",
    "RP.SETFLUIDSdll(\"PROPANE\");\n",
    "z = [1.0]+[0.0]*19\n",
    "\n",
    "# Do a saturation call at one 273.15 K, check H and S are equal to the \n",
    "# default reference state (IIR, h = 200 kJ/kg, s = 1 kJ/kg-K for sat. liquid at 0 C)\n",
    "r = RP.REFPROPdll(\"PROPANE\", \"QT\", \"H;S\", MASS_BASE_SI, 0, 0, 0, 273.15, z)\n",
    "print(r.Output[0:2], \":::::: (should be 200000, 1000)\")\n",
    "\n",
    "# Now we set the reference state to something else, in this case NBP\n",
    "# with h,s = 0 at normal boiling point (saturated liquid at 1 atmosphere (101325 Pa))\n",
    "icomp = 1\n",
    "RP.SETREFdll(\"NBP\", icomp, z, -1,-1,-1,-1) # -1 are placeholders, not needed, but must be passed\n",
    "\n",
    "# Confirm that we get the right enthalpy and entropy at the reference state\n",
    "# They should be 0 and 0 for H and S\n",
    "r = RP.REFPROPdll(\"\", \"PQ\", \"H;S\", MASS_BASE_SI, 0,0, 101325, 0, z)\n",
    "print(r.Output[0:2], \":::::: (should be ~0, ~0)\")\n",
    "\n",
    "# Unset the reference state for propane by selecting a new fluid\n",
    "RP.SETFLUIDSdll(\"DECANE\");\n",
    "\n",
    "# This should be back to IIR again\n",
    "r = RP.REFPROPdll(\"PROPANE\", \"QT\", \"H;S\", MASS_BASE_SI, 0, 0, 0, 273.15, z)\n",
    "print(r.Output[0:2], \":::::: (should be 200000, 1000)\")"
   ]
  },
  {
   "cell_type": "markdown",
   "metadata": {},
   "source": [
    "# Setting Up Predefined Mixture"
   ]
  },
  {
   "cell_type": "code",
   "execution_count": 26,
   "metadata": {},
   "outputs": [
    {
     "name": "stdout",
     "output_type": "stream",
     "text": [
      "SETMIXdlloutput(ncc=3, hFiles='R32.FLD|R125.FLD|R134A.FLD|', z=array('d', [0.47319469445335816, 0.2051090954133305, 0.3216962101333113, 0.0, 0.0, 0.0, 0.0, 0.0, 0.0, 0.0, 0.0, 0.0, 0.0, 0.0, 0.0, 0.0, 0.0, 0.0, 0.0, 0.0]), ierr=0, herr='')\n",
      "SETREFdlloutput(ierr=0, herr='')\n",
      "200000.00000000003 999.9999999999998\n"
     ]
    }
   ],
   "source": [
    "mix = 'R407F.mix'\n",
    "sm = RP.SETMIXdll(mix,'HMX.BNC','IIR')\n",
    "print(sm)\n",
    "print(RP.SETREFdll('IIR',2,sm.z,0,0,0,0))\n",
    "r = RP.REFPROPdll(\"\", \"QT\", \"H;S;M\", RP.MOLAR_BASE_SI,0,0,0,273.15,sm.z)\n",
    "Hmolar, Smolar, M = r.Output[0:3]\n",
    "print(Hmolar/M, Smolar/M)"
   ]
  }
 ],
 "metadata": {
  "kernelspec": {
   "display_name": "Python 3 (ipykernel)",
   "language": "python",
   "name": "python3"
  },
  "language_info": {
   "codemirror_mode": {
    "name": "ipython",
    "version": 3
   },
   "file_extension": ".py",
   "mimetype": "text/x-python",
   "name": "python",
   "nbconvert_exporter": "python",
   "pygments_lexer": "ipython3",
   "version": "3.12.3"
  }
 },
 "nbformat": 4,
 "nbformat_minor": 4
}
